{
 "cells": [
  {
   "cell_type": "code",
   "execution_count": 3,
   "metadata": {},
   "outputs": [
    {
     "name": "stderr",
     "output_type": "stream",
     "text": [
      "[nltk_data] Downloading package punkt to\n",
      "[nltk_data]     C:\\Users\\Dell\\AppData\\Roaming\\nltk_data...\n",
      "[nltk_data]   Package punkt is already up-to-date!\n"
     ]
    }
   ],
   "source": [
    "import nltk\n",
    "import numpy as np\n",
    "import pandas as pd\n",
    "nltk.download('punkt')\n",
    "import re"
   ]
  },
  {
   "cell_type": "code",
   "execution_count": 17,
   "metadata": {},
   "outputs": [
    {
     "data": {
      "text/plain": [
       "\"Maria Sharapova has basically no friends as tennis players on the WTA Tour. The Russian player has no problems in openly speaking about it and in a recent interview she said: 'I don't really hide any feelings too much. I think everyone knows this is my job here. When I'm on the courts or when I'm on the court playing, I'm a competitor and I want to beat every single person whether they're in the locker room or across the net.So I'm not the one to strike up a conversation about the weather and know that in the next few minutes I have to go and try to win a tennis match. I'm a pretty competitive girl. I say my hellos, but I'm not sending any players flowers as well. Uhm, I'm not really friendly or close to many players. I have not a lot of friends away from the courts.' When she said she is not really close to a lot of players, is that something strategic that she is doing? Is it different on the men's tour than the women's tour? 'No, not at all. I think just because you're in the same sport doesn't mean that you have to be friends with everyone just because you're categorized, you're a tennis player, so you're going to get along with tennis players. I think every person has different interests. I have friends that have completely different jobs and interests, and I've met them in very different parts of my life. I think everyone just thinks because we're tennis players we should be the greatest of friends. But ultimately tennis is just a very small part of what we do. There are so many other things that we're interested in, that we do.'\""
      ]
     },
     "execution_count": 17,
     "metadata": {},
     "output_type": "execute_result"
    }
   ],
   "source": [
    "df=pd.read_csv('D:/tennis_articles_v4.csv')\n",
    "df.head()\n",
    "df['article_text'][0]"
   ]
  },
  {
   "cell_type": "code",
   "execution_count": 20,
   "metadata": {},
   "outputs": [
    {
     "name": "stdout",
     "output_type": "stream",
     "text": [
      "['Maria Sharapova has basically no friends as tennis players on the WTA Tour.', \"The Russian player has no problems in openly speaking about it and in a recent interview she said: 'I don't really hide any feelings too much.\", 'I think everyone knows this is my job here.', \"When I'm on the courts or when I'm on the court playing, I'm a competitor and I want to beat every single person whether they're in the locker room or across the net.So I'm not the one to strike up a conversation about the weather and know that in the next few minutes I have to go and try to win a tennis match.\", \"I'm a pretty competitive girl.\"]\n"
     ]
    }
   ],
   "source": [
    "from nltk.tokenize import sent_tokenize\n",
    "sentences=[]\n",
    "for s in df['article_text']:\n",
    "    sentences.append(sent_tokenize(s))\n",
    "sentences=[y for x in sentences for y in x]\n",
    "print(sentences[:5])"
   ]
  },
  {
   "cell_type": "code",
   "execution_count": 6,
   "metadata": {},
   "outputs": [
    {
     "name": "stdout",
     "output_type": "stream",
     "text": [
      "['maria sharapova has basically no friends as tennis players on the wta tour ', 'the russian player has no problems in openly speaking about it and in a recent interview she said   i don t really hide any feelings too much ', 'i think everyone knows this is my job here ', 'when i m on the courts or when i m on the court playing  i m a competitor and i want to beat every single person whether they re in the locker room or across the net so i m not the one to strike up a conversation about the weather and know that in the next few minutes i have to go and try to win a tennis match ', 'i m a pretty competitive girl ']\n"
     ]
    },
    {
     "name": "stderr",
     "output_type": "stream",
     "text": [
      "[nltk_data] Downloading package stopwords to\n",
      "[nltk_data]     C:\\Users\\Dell\\AppData\\Roaming\\nltk_data...\n",
      "[nltk_data]   Package stopwords is already up-to-date!\n"
     ]
    },
    {
     "name": "stdout",
     "output_type": "stream",
     "text": [
      "['maria sharapova basically friends tennis players wta tour', 'russian player problems openly speaking recent interview said really hide feelings much', 'think everyone knows job', 'courts court playing competitor want beat every single person whether locker room across net one strike conversation weather know next minutes go try win tennis match', 'pretty competitive girl']\n"
     ]
    }
   ],
   "source": [
    "m_sentences=pd.Series(sentences).str.replace(\"[^a-zA-Z]\",\" \")\n",
    "m_sentences=[x.lower() for x in m_sentences]\n",
    "print(m_sentences[:5])\n",
    "nltk.download('stopwords')\n",
    "from nltk.corpus import stopwords\n",
    "stopwords=stopwords.words('english')\n",
    "def remove_stopwords(sen):\n",
    "    sen=\" \".join([i for i in sen if i not in stopwords])\n",
    "    return sen\n",
    "m_sentences=[remove_stopwords(r.split()) for r in m_sentences]\n",
    "print(m_sentences[:5])"
   ]
  },
  {
   "cell_type": "code",
   "execution_count": 7,
   "metadata": {},
   "outputs": [],
   "source": [
    "word_embeddings={}\n",
    "f = open('D:/glove.en/glove.6B.100d.txt', encoding='utf-8')\n",
    "for line in f:\n",
    "    values=line.split()\n",
    "    word=values[0]\n",
    "    coefs = np.asarray(values[1:], dtype='float32')\n",
    "    word_embeddings[word] = coefs\n",
    "f.close()"
   ]
  },
  {
   "cell_type": "code",
   "execution_count": 8,
   "metadata": {},
   "outputs": [
    {
     "name": "stdout",
     "output_type": "stream",
     "text": [
      "[array([ 5.14825583e-02,  1.10544682e-01,  6.94999397e-01,  1.89168096e-01,\n",
      "       -9.58077684e-02,  3.20288986e-01,  2.70662010e-01,  5.42440832e-01,\n",
      "       -3.05938005e-01, -1.56364068e-01,  3.70127618e-01,  8.09492469e-02,\n",
      "        8.41393881e-03,  2.47571543e-01, -3.69342804e-01, -7.61044994e-02,\n",
      "        8.08582604e-02,  2.30643645e-01, -2.70402402e-01,  5.13828397e-01,\n",
      "       -6.12548441e-02,  3.87900352e-01,  1.03121363e-01,  7.72494674e-01,\n",
      "        2.59960234e-01, -7.96069205e-02,  1.42143592e-01, -9.62644577e-01,\n",
      "        7.54904330e-01,  6.03260659e-02, -4.58570123e-01,  2.36780301e-01,\n",
      "        2.29152635e-01, -1.56453326e-01,  3.97632688e-01, -2.32720934e-02,\n",
      "       -5.05520999e-01,  4.13252831e-01, -2.85759270e-01, -1.35231465e-01,\n",
      "       -1.37098104e-01, -1.48972601e-01,  3.37537557e-01, -3.49540442e-01,\n",
      "        1.53484434e-01, -2.33341649e-01, -1.98460802e-01, -1.27821520e-01,\n",
      "        5.08063912e-01, -3.68636876e-01, -2.28472307e-01, -3.15306723e-01,\n",
      "        1.36149466e-01,  2.22507194e-01,  1.19500056e-01, -1.71007359e+00,\n",
      "       -1.04403630e-01,  3.45346779e-01,  5.54419458e-01,  7.91236103e-01,\n",
      "       -2.63593912e-01,  5.01183808e-01, -1.54918820e-01,  2.39762396e-01,\n",
      "       -4.94388118e-02, -1.39404953e-01, -6.96142530e-03,  4.52243447e-01,\n",
      "        1.44498184e-01, -1.88242078e-01,  1.62694290e-01,  2.51032356e-02,\n",
      "       -1.29925504e-01, -2.16523811e-01, -1.39851749e-01,  1.79708660e-01,\n",
      "        4.75623786e-01,  6.25944212e-02, -1.11897260e-01, -1.08534172e-01,\n",
      "        6.22914493e-01, -2.60313332e-01, -1.83883741e-01,  1.65396854e-02,\n",
      "       -1.04412448e+00, -3.77867967e-01, -6.96135521e-01,  2.54875660e-01,\n",
      "       -2.14379832e-01, -6.60440326e-02, -3.04694414e-01, -2.49966215e-02,\n",
      "        3.12481433e-01,  1.38415188e-01,  1.15484960e-01,  9.44008352e-04,\n",
      "       -3.47184688e-01, -5.04137203e-02,  3.52187961e-01,  5.41942239e-01],\n",
      "      dtype=float32), array([-8.46056044e-02,  1.69623360e-01,  4.33749944e-01, -8.58418122e-02,\n",
      "       -1.70975417e-01,  1.32896423e-01, -2.54114658e-01, -1.70107469e-01,\n",
      "        2.79757172e-01,  6.33887276e-02, -2.04101473e-01,  7.64638111e-02,\n",
      "        2.85677612e-01, -9.00602564e-02, -1.14498213e-01, -9.90290865e-02,\n",
      "       -1.34927511e-01, -2.71166232e-03, -4.13565874e-01,  6.32358193e-02,\n",
      "        4.55082878e-02,  1.91257671e-01, -1.39448941e-01, -1.13781996e-03,\n",
      "       -9.70350802e-02, -1.26338288e-01, -5.15491217e-02, -3.08907747e-01,\n",
      "        3.43927354e-01,  2.86936820e-01, -2.22957656e-01,  4.46837395e-01,\n",
      "       -1.11253977e-01, -7.21814632e-02,  1.37357712e-01,  1.71515450e-01,\n",
      "        5.39051816e-02,  2.76359648e-01, -2.55537611e-02, -1.31975263e-02,\n",
      "       -4.84045923e-01, -1.34829834e-01,  2.57399052e-01, -1.33780092e-01,\n",
      "       -2.33958840e-01, -1.68721929e-01,  2.29427516e-01, -3.33674073e-01,\n",
      "       -2.39330102e-02, -7.64521301e-01,  2.71977514e-01, -9.60583910e-02,\n",
      "        1.57525614e-01,  8.85156214e-01,  7.10327327e-02, -2.03570867e+00,\n",
      "       -1.80776988e-03, -4.46026996e-02,  1.09610200e+00,  6.00932598e-01,\n",
      "        5.10914959e-02,  6.43380463e-01, -1.95136487e-01, -2.53053159e-01,\n",
      "        5.12441456e-01, -1.18844092e-01,  7.67922759e-01,  3.14244449e-01,\n",
      "        1.05630115e-01,  1.20346867e-01,  4.58597504e-02, -1.99755028e-01,\n",
      "       -5.46125360e-02, -3.42823893e-01,  1.62033841e-01,  1.79106459e-01,\n",
      "       -1.02332883e-01,  8.30606744e-02, -8.31462383e-01,  1.88096136e-01,\n",
      "        5.75160027e-01, -1.42058209e-01, -1.52435631e-01,  4.44296300e-02,\n",
      "       -1.37316966e+00, -4.73973423e-01, -1.71549603e-01,  1.90661609e-01,\n",
      "       -4.02716398e-01, -3.76091152e-01,  7.99129903e-02, -1.23995073e-01,\n",
      "       -5.62082306e-02,  4.33755154e-03, -3.11803013e-01,  2.47871682e-01,\n",
      "       -4.21591938e-01, -1.58220693e-01,  2.43690088e-01,  3.16631943e-01],\n",
      "      dtype=float32), array([ 0.14814992,  0.42450237,  0.66031396, -0.50417393, -0.5469658 ,\n",
      "       -0.00374532, -0.34379405,  0.06937566,  0.21661384, -0.25974503,\n",
      "        0.20404723,  0.01673731,  0.20149764, -0.18390428, -0.16559835,\n",
      "       -0.2341762 , -0.17212947,  0.49136218, -0.31177458,  0.74418145,\n",
      "       -0.18031242,  0.3262372 , -0.45182955, -0.7707923 , -0.02366783,\n",
      "       -0.02707573, -0.3201275 , -0.7713147 ,  0.16806799, -0.3940265 ,\n",
      "       -0.31288004,  0.8974081 ,  0.29378405, -0.12754712,  0.05665586,\n",
      "        0.21961085, -0.46683055,  0.22177458,  0.32623097, -0.42606848,\n",
      "       -0.48414147, -0.00424944,  0.3133517 , -0.43068507, -0.6857036 ,\n",
      "        0.02652912,  0.06604849, -0.34907773, -0.22533447, -1.0924069 ,\n",
      "        0.33661583, -0.3544689 , -0.15569359,  0.90959007,  0.0343869 ,\n",
      "       -2.1660836 ,  0.2722964 ,  0.05013596,  1.0515397 ,  0.39743316,\n",
      "        0.02675331,  0.63957894, -0.36675334, -0.33103722,  0.6579705 ,\n",
      "        0.18743566,  0.76987755,  0.2600585 , -0.17596602,  0.2132558 ,\n",
      "        0.32667834, -0.23908748, -0.18517545, -0.33671084,  0.49401543,\n",
      "        0.13753437, -0.0221967 , -0.20622244, -0.28788054,  0.01924269,\n",
      "        0.49343413, -0.00334942, -0.74373406, -0.10449113, -1.408343  ,\n",
      "       -0.46371406, -0.34590355, -0.08561609, -0.4305524 , -0.55984503,\n",
      "        0.20258684, -0.22031265,  0.34533992, -0.13551362, -0.4867883 ,\n",
      "        0.16012523, -0.03195333,  0.06459635,  0.19997576,  0.70649344],\n",
      "      dtype=float32), array([ 0.00635764,  0.19392036,  0.47338355, -0.11994532, -0.18183222,\n",
      "        0.39362404,  0.03021473,  0.3058678 , -0.27984452, -0.1350603 ,\n",
      "        0.21782461, -0.0435336 ,  0.05983898, -0.03847076, -0.03452814,\n",
      "       -0.08754686, -0.03284152,  0.26497212, -0.40574118,  0.2045678 ,\n",
      "        0.30722964,  0.14276573,  0.2527146 , -0.03963274,  0.23167998,\n",
      "       -0.11476567, -0.05163356, -0.46983826,  0.24158174, -0.04750975,\n",
      "       -0.21098635,  0.42772007,  0.13107622, -0.0298439 ,  0.17862822,\n",
      "        0.13905041, -0.4005354 ,  0.20550247,  0.01217696, -0.19218549,\n",
      "       -0.15770629, -0.29531738,  0.13991627, -0.39578143, -0.02201634,\n",
      "       -0.03285473,  0.07069061, -0.31716087,  0.0904976 , -0.79340553,\n",
      "        0.02686624, -0.07301015,  0.0272568 ,  0.9243445 ,  0.02536825,\n",
      "       -2.168561  , -0.12019134,  0.06289279,  1.432541  ,  0.5427988 ,\n",
      "       -0.2916361 ,  0.5324056 , -0.27415586,  0.04131274,  0.42412865,\n",
      "        0.07015922,  0.25089505,  0.321241  , -0.2598141 , -0.10732103,\n",
      "       -0.02452752, -0.18340324,  0.12241655, -0.32825926,  0.19089122,\n",
      "        0.13729095, -0.05409885, -0.3381081 , -0.29546994,  0.12312843,\n",
      "        0.54616   , -0.13443445, -0.38527927, -0.04051573, -1.2127631 ,\n",
      "       -0.35605088, -0.10221499,  0.21508756, -0.04328202, -0.1884288 ,\n",
      "       -0.02893854, -0.00797384, -0.05258244, -0.02768826, -0.33510622,\n",
      "        0.11183578,  0.00646364,  0.08232711,  0.46385223,  0.15356502],\n",
      "      dtype=float32), array([-1.51949348e-02,  2.30953023e-01,  2.75334895e-01, -2.62705773e-01,\n",
      "       -4.24148649e-01,  6.42053261e-02, -1.62395556e-02,  2.68650472e-01,\n",
      "       -1.36607796e-01, -3.54385264e-02, -1.06021296e-02, -4.96394597e-02,\n",
      "        2.51724780e-01, -1.13888390e-01, -1.00029975e-01,  6.20943084e-02,\n",
      "       -8.92735794e-02,  2.49413550e-01,  1.19463518e-01,  5.56387544e-01,\n",
      "        3.78456444e-01,  3.31889361e-01,  2.17869222e-01, -7.52349123e-02,\n",
      "        1.51103631e-01,  3.00866365e-01, -4.33572143e-01, -9.66094673e-01,\n",
      "       -3.22509170e-01,  3.96415532e-01, -1.21167257e-01,  5.98753750e-01,\n",
      "        5.07392466e-01, -5.52219272e-01,  7.22825706e-01, -2.68313229e-01,\n",
      "       -6.68357313e-01, -8.05668086e-02,  1.29633471e-01, -4.00726438e-01,\n",
      "        1.06351212e-01, -1.96084585e-02, -1.25231575e-02, -2.22553506e-01,\n",
      "       -1.68975681e-01,  2.86204591e-02,  8.96367878e-02,  3.28277260e-01,\n",
      "        2.66879052e-01, -8.83092284e-01, -3.01920682e-01, -4.87037659e-01,\n",
      "        4.46884409e-02,  7.58327186e-01,  2.27626786e-01, -2.03328896e+00,\n",
      "        1.50589794e-01,  2.01816067e-01,  1.12418187e+00,  1.32406533e-01,\n",
      "        9.49004292e-02,  6.92185938e-01, -8.72852445e-01,  2.90975273e-02,\n",
      "        4.72625792e-01, -2.23325603e-02,  5.74876368e-01,  3.41052935e-02,\n",
      "        8.76811147e-02,  3.09743434e-02,  2.67667443e-01, -2.49046758e-01,\n",
      "        4.11855988e-02,  3.12172621e-01,  3.03842068e-01,  6.32475913e-01,\n",
      "        2.07114331e-02, -2.77397513e-01, -3.88419390e-01, -5.33198953e-01,\n",
      "        2.00566471e-01,  2.65443861e-01, -5.56914359e-02,  1.91303249e-02,\n",
      "       -1.10769081e+00, -7.61482894e-01, -3.30833077e-01, -7.29759689e-04,\n",
      "       -3.80017370e-01, -5.08913696e-01, -2.51932703e-02,  2.36316234e-01,\n",
      "       -1.31856063e-02, -1.00980140e-01, -2.20724091e-01,  2.19783083e-01,\n",
      "       -5.90413570e-01, -1.56804413e-01,  1.77140936e-01,  3.46361220e-01],\n",
      "      dtype=float32)]\n"
     ]
    }
   ],
   "source": [
    "en_sentences=[]\n",
    "for i in m_sentences:\n",
    "    if len(i) != 0:\n",
    "        v = sum([word_embeddings.get(w, np.zeros((100,))) for w in i.split()])/(len(i.split())+0.001)\n",
    "    else:\n",
    "        v = np.zeros((100,))\n",
    "    en_sentences.append(v)\n",
    "print(en_sentences[:5])\n"
   ]
  },
  {
   "cell_type": "code",
   "execution_count": 9,
   "metadata": {},
   "outputs": [
    {
     "name": "stdout",
     "output_type": "stream",
     "text": [
      "[[1.         1.         1.         1.         1.         1.\n",
      "  1.         1.         1.         1.         1.         1.\n",
      "  1.         1.         1.         1.         1.         1.\n",
      "  1.         1.         1.         1.         1.         1.\n",
      "  1.         1.         1.         1.         1.         1.\n",
      "  1.         1.         1.         1.         1.         1.\n",
      "  1.         1.         1.         1.         1.         1.\n",
      "  1.         1.         1.         1.         1.         1.\n",
      "  1.         1.         1.         1.         1.         1.\n",
      "  1.         1.         1.         1.         1.         1.\n",
      "  1.         1.         1.         1.         1.         1.\n",
      "  1.         1.         1.         1.         1.         1.\n",
      "  1.         1.         1.         1.         1.         1.\n",
      "  1.         1.         1.         1.         1.         1.\n",
      "  1.         1.         1.         1.         1.         1.\n",
      "  1.         1.         1.         1.         1.         1.\n",
      "  1.         1.         1.         1.         1.         1.\n",
      "  1.         1.         1.         1.         1.         1.\n",
      "  1.         1.         1.         1.         1.         1.\n",
      "  1.         1.         1.         1.         1.        ]\n",
      " [0.99999994 0.99999994 0.99999994 0.99999994 0.99999994 0.99999994\n",
      "  0.99999994 0.99999994 0.99999994 0.99999994 0.99999994 0.99999994\n",
      "  0.99999994 0.99999994 0.99999994 0.99999994 0.99999994 0.99999994\n",
      "  0.99999994 0.99999994 0.99999994 0.99999994 0.99999994 0.99999994\n",
      "  0.99999994 0.99999994 0.99999994 0.99999994 0.99999994 0.99999994\n",
      "  0.99999994 0.99999994 0.99999994 0.99999994 0.99999994 0.99999994\n",
      "  0.99999994 0.99999994 0.99999994 0.99999994 0.99999994 0.99999994\n",
      "  0.99999994 0.99999994 0.99999994 0.99999994 0.99999994 0.99999994\n",
      "  0.99999994 0.99999994 0.99999994 0.99999994 0.99999994 0.99999994\n",
      "  0.99999994 0.99999994 0.99999994 0.99999994 0.99999994 0.99999994\n",
      "  0.99999994 0.99999994 0.99999994 0.99999994 0.99999994 0.99999994\n",
      "  0.99999994 0.99999994 0.99999994 0.99999994 0.99999994 0.99999994\n",
      "  0.99999994 0.99999994 0.99999994 0.99999994 0.99999994 0.99999994\n",
      "  0.99999994 0.99999994 0.99999994 0.99999994 0.99999994 0.99999994\n",
      "  0.99999994 0.99999994 0.99999994 0.99999994 0.99999994 0.99999994\n",
      "  0.99999994 0.99999994 0.99999994 0.99999994 0.99999994 0.99999994\n",
      "  0.99999994 0.99999994 0.99999994 0.99999994 0.99999994 0.99999994\n",
      "  0.99999994 0.99999994 0.99999994 0.99999994 0.99999994 0.99999994\n",
      "  0.99999994 0.99999994 0.99999994 0.99999994 0.99999994 0.99999994\n",
      "  0.99999994 0.99999994 0.99999994 0.99999994 0.99999994]\n",
      " [1.00000012 1.00000012 1.00000012 1.00000012 1.00000012 1.00000012\n",
      "  1.00000012 1.00000012 1.00000012 1.00000012 1.00000012 1.00000012\n",
      "  1.00000012 1.00000012 1.00000012 1.00000012 1.00000012 1.00000012\n",
      "  1.00000012 1.00000012 1.00000012 1.00000012 1.00000012 1.00000012\n",
      "  1.00000012 1.00000012 1.00000012 1.00000012 1.00000012 1.00000012\n",
      "  1.00000012 1.00000012 1.00000012 1.00000012 1.00000012 1.00000012\n",
      "  1.00000012 1.00000012 1.00000012 1.00000012 1.00000012 1.00000012\n",
      "  1.00000012 1.00000012 1.00000012 1.00000012 1.00000012 1.00000012\n",
      "  1.00000012 1.00000012 1.00000012 1.00000012 1.00000012 1.00000012\n",
      "  1.00000012 1.00000012 1.00000012 1.00000012 1.00000012 1.00000012\n",
      "  1.00000012 1.00000012 1.00000012 1.00000012 1.00000012 1.00000012\n",
      "  1.00000012 1.00000012 1.00000012 1.00000012 1.00000012 1.00000012\n",
      "  1.00000012 1.00000012 1.00000012 1.00000012 1.00000012 1.00000012\n",
      "  1.00000012 1.00000012 1.00000012 1.00000012 1.00000012 1.00000012\n",
      "  1.00000012 1.00000012 1.00000012 1.00000012 1.00000012 1.00000012\n",
      "  1.00000012 1.00000012 1.00000012 1.00000012 1.00000012 1.00000012\n",
      "  1.00000012 1.00000012 1.00000012 1.00000012 1.00000012 1.00000012\n",
      "  1.00000012 1.00000012 1.00000012 1.00000012 1.00000012 1.00000012\n",
      "  1.00000012 1.00000012 1.00000012 1.00000012 1.00000012 1.00000012\n",
      "  1.00000012 1.00000012 1.00000012 1.00000012 1.00000012]\n",
      " [1.         1.         1.         1.         1.         1.\n",
      "  1.         1.         1.         1.         1.         1.\n",
      "  1.         1.         1.         1.         1.         1.\n",
      "  1.         1.         1.         1.         1.         1.\n",
      "  1.         1.         1.         1.         1.         1.\n",
      "  1.         1.         1.         1.         1.         1.\n",
      "  1.         1.         1.         1.         1.         1.\n",
      "  1.         1.         1.         1.         1.         1.\n",
      "  1.         1.         1.         1.         1.         1.\n",
      "  1.         1.         1.         1.         1.         1.\n",
      "  1.         1.         1.         1.         1.         1.\n",
      "  1.         1.         1.         1.         1.         1.\n",
      "  1.         1.         1.         1.         1.         1.\n",
      "  1.         1.         1.         1.         1.         1.\n",
      "  1.         1.         1.         1.         1.         1.\n",
      "  1.         1.         1.         1.         1.         1.\n",
      "  1.         1.         1.         1.         1.         1.\n",
      "  1.         1.         1.         1.         1.         1.\n",
      "  1.         1.         1.         1.         1.         1.\n",
      "  1.         1.         1.         1.         1.        ]\n",
      " [0.99999988 0.99999988 0.99999988 0.99999988 0.99999988 0.99999988\n",
      "  0.99999988 0.99999988 0.99999988 0.99999988 0.99999988 0.99999988\n",
      "  0.99999988 0.99999988 0.99999988 0.99999988 0.99999988 0.99999988\n",
      "  0.99999988 0.99999988 0.99999988 0.99999988 0.99999988 0.99999988\n",
      "  0.99999988 0.99999988 0.99999988 0.99999988 0.99999988 0.99999988\n",
      "  0.99999988 0.99999988 0.99999988 0.99999988 0.99999988 0.99999988\n",
      "  0.99999988 0.99999988 0.99999988 0.99999988 0.99999988 0.99999988\n",
      "  0.99999988 0.99999988 0.99999988 0.99999988 0.99999988 0.99999988\n",
      "  0.99999988 0.99999988 0.99999988 0.99999988 0.99999988 0.99999988\n",
      "  0.99999988 0.99999988 0.99999988 0.99999988 0.99999988 0.99999988\n",
      "  0.99999988 0.99999988 0.99999988 0.99999988 0.99999988 0.99999988\n",
      "  0.99999988 0.99999988 0.99999988 0.99999988 0.99999988 0.99999988\n",
      "  0.99999988 0.99999988 0.99999988 0.99999988 0.99999988 0.99999988\n",
      "  0.99999988 0.99999988 0.99999988 0.99999988 0.99999988 0.99999988\n",
      "  0.99999988 0.99999988 0.99999988 0.99999988 0.99999988 0.99999988\n",
      "  0.99999988 0.99999988 0.99999988 0.99999988 0.99999988 0.99999988\n",
      "  0.99999988 0.99999988 0.99999988 0.99999988 0.99999988 0.99999988\n",
      "  0.99999988 0.99999988 0.99999988 0.99999988 0.99999988 0.99999988\n",
      "  0.99999988 0.99999988 0.99999988 0.99999988 0.99999988 0.99999988\n",
      "  0.99999988 0.99999988 0.99999988 0.99999988 0.99999988]]\n"
     ]
    }
   ],
   "source": [
    "sim_matrix=np.zeros([len(sentences),len(sentences)])\n",
    "from sklearn.metrics.pairwise import cosine_similarity\n",
    "for i in range(len(sentences)):\n",
    "    for j in range(len(sentences)):\n",
    "        sim_matrix[i][j]=cosine_similarity(en_sentences[i].reshape(1,100),en_sentences[i].reshape(1,100))[0,0]\n",
    "print(sim_matrix[:5])"
   ]
  },
  {
   "cell_type": "code",
   "execution_count": 10,
   "metadata": {},
   "outputs": [
    {
     "name": "stdout",
     "output_type": "stream",
     "text": [
      "\"Not always, but I really feel like in the mid-2000 years there was a huge shift of the attitudes of the top players and being more friendly and being more giving, and a lot of that had to do with players like Roger coming up.\n",
      "\"It seems pretty friendly right now,\" said Davenport.\n",
      "\"I think there is a really nice environment and a great atmosphere, especially between some of the veteran players helping some of the younger players out.\n",
      "Because it was not always easy in the last weeks.\"\n",
      "\"There are very touching moments: seeing the ball children, the standing ovations, all the familiar faces in the audience.\n",
      "And sometimes it tilts with the emotions, sometimes I just stumble.\n",
      "\"We also had the impression that at this stage it might be better to play matches than to train.\n",
      "\"And as long as I fear no injury, I play.\"\n",
      "\"On Tuesday I will fly to Paris and train in the afternoon to be ready for my first match on Wednesday night.\n",
      "Irina looks back at her WTA title win in Bogota in 2016, and tells an unforgettable story about her semifinal drama (14:04).\n"
     ]
    }
   ],
   "source": [
    "import networkx as nx\n",
    "nx_graph=nx.from_numpy_array(sim_matrix)\n",
    "scores=nx.pagerank(nx_graph)\n",
    "rank_sen=sorted(((scores[i],s) for i,s in enumerate(sentences)), reverse=True)\n",
    "for i in range(5):\n",
    "    print(rank_sen[i][1])"
   ]
  }
 ],
 "metadata": {
  "kernelspec": {
   "display_name": "Python 3",
   "language": "python",
   "name": "python3"
  },
  "language_info": {
   "codemirror_mode": {
    "name": "ipython",
    "version": 3
   },
   "file_extension": ".py",
   "mimetype": "text/x-python",
   "name": "python",
   "nbconvert_exporter": "python",
   "pygments_lexer": "ipython3",
   "version": "3.7.0"
  }
 },
 "nbformat": 4,
 "nbformat_minor": 2
}
